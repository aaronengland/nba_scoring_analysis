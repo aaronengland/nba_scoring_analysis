{
 "cells": [
  {
   "cell_type": "markdown",
   "id": "68fbad68",
   "metadata": {},
   "source": [
    "# NBA Scoring Analysis"
   ]
  },
  {
   "cell_type": "code",
   "execution_count": 1,
   "id": "cebc94bb",
   "metadata": {},
   "outputs": [],
   "source": [
    "import os\n",
    "import requests\n",
    "from bs4 import BeautifulSoup\n",
    "import pandas as pd\n",
    "import numpy as np\n",
    "from pprint import pprint\n",
    "from tqdm import tqdm\n",
    "import matplotlib.pyplot as plt\n",
    "from numpy.linalg import inv\n",
    "from sklearn.metrics import mean_absolute_error, mean_squared_error, r2_score"
   ]
  },
  {
   "cell_type": "markdown",
   "id": "a227b95e",
   "metadata": {},
   "source": [
    "## Pick a player"
   ]
  },
  {
   "cell_type": "code",
   "execution_count": 2,
   "id": "4ccd1306",
   "metadata": {},
   "outputs": [],
   "source": [
    "# pick a player (LeBron, Luka, KD, Giannis, Steph)\n",
    "str_player = 'LeBron'"
   ]
  },
  {
   "cell_type": "markdown",
   "id": "a9511eab",
   "metadata": {},
   "source": [
    "## Define functions"
   ]
  },
  {
   "cell_type": "code",
   "execution_count": 3,
   "id": "c5615a2c",
   "metadata": {},
   "outputs": [],
   "source": [
    "# define function to get table from url\n",
    "def get_table(str_url):\n",
    "    r = requests.get(str_url)\n",
    "    # get content of page\n",
    "    soup = BeautifulSoup(r.content, 'html.parser')\n",
    "    # get the table\n",
    "    table = soup.find('table', {'id': 'pgl_basic'})\n",
    "    return table"
   ]
  },
  {
   "cell_type": "code",
   "execution_count": 4,
   "id": "5c6ff399",
   "metadata": {},
   "outputs": [],
   "source": [
    "# linear regression class\n",
    "class OLSRegression:\n",
    "    # initialize class\n",
    "    def __init__(self):\n",
    "        pass\n",
    "    # fit the model\n",
    "    def fit(self, X, y):\n",
    "        # ordinary least squares b = (XT*X)^-1 * XT*y\n",
    "        arr_betas = inv(X.T.dot(X)).dot(X.T).dot(y)\n",
    "        # create dictionary\n",
    "        dict_col_betas = dict(zip(X.columns, arr_betas))\n",
    "        # save to class\n",
    "        self.dict_col_betas = dict_col_betas\n",
    "        # return self\n",
    "        return self\n",
    "    # generate predictions\n",
    "    def predict(self, X):\n",
    "        # multiply each cell by its beta\n",
    "        list_predictions = list(X.dot(pd.Series(self.dict_col_betas)))\n",
    "        # save to class\n",
    "        self.list_predictions = list_predictions\n",
    "        # return self\n",
    "        return self\n",
    "    # evaluate performance\n",
    "    def evaluate(self, y):\n",
    "        # get mean absolute error\n",
    "        mae = mean_absolute_error(y_true=y, y_pred=self.list_predictions)\n",
    "        # get mean squared error\n",
    "        mse = mean_squared_error(y_true=y, y_pred=self.list_predictions)\n",
    "        # get root mean square error\n",
    "        rmse = np.sqrt(mse)\n",
    "        # get explained variance (R2)\n",
    "        r2 = r2_score(y_true=y, y_pred=self.list_predictions)\n",
    "        # create dictionary\n",
    "        dict_eval_metrics = {'mae': mae, 'mse': mse, 'rmse': rmse, 'r2': r2}\n",
    "        # return dict_eval_metrics\n",
    "        return dict_eval_metrics"
   ]
  },
  {
   "cell_type": "markdown",
   "id": "2932516c",
   "metadata": {},
   "source": [
    "## Input dictionary"
   ]
  },
  {
   "cell_type": "code",
   "execution_count": 5,
   "id": "ece2064e",
   "metadata": {},
   "outputs": [],
   "source": [
    "dict_input = {\n",
    "    'LeBron': {\n",
    "        'int_start_year': 2004,\n",
    "        'str_name': '/j/jamesle01',\n",
    "    },\n",
    "    'Luka': {\n",
    "        'int_start_year': 2019,\n",
    "        'str_name': 'd/doncilu01',\n",
    "    },\n",
    "    'KD': {\n",
    "        'int_start_year': 2008,\n",
    "        'str_name': 'd/duranke01',\n",
    "    },\n",
    "    'Giannis': {\n",
    "        'int_start_year': 2014,\n",
    "        'str_name': 'a/antetgi01',\n",
    "    },\n",
    "    'Steph': {\n",
    "        'int_start_year': 2010,\n",
    "        'str_name': 'c/curryst01',\n",
    "    },\n",
    "    \n",
    "}"
   ]
  },
  {
   "cell_type": "markdown",
   "id": "30626c4b",
   "metadata": {},
   "source": [
    "## Make output directory"
   ]
  },
  {
   "cell_type": "code",
   "execution_count": 6,
   "id": "f1c45e55",
   "metadata": {},
   "outputs": [],
   "source": [
    "str_dirname_output = f'./{str_player}'\n",
    "try:\n",
    "    os.mkdir(str_dirname_output)\n",
    "except FileExistsError:\n",
    "    pass"
   ]
  },
  {
   "cell_type": "markdown",
   "id": "cd58302f",
   "metadata": {},
   "source": [
    "## Scrape all games played"
   ]
  },
  {
   "cell_type": "code",
   "execution_count": 7,
   "id": "0c2626c0",
   "metadata": {},
   "outputs": [],
   "source": [
    "# create list of years\n",
    "int_start_year = dict_input[str_player]['int_start_year'] # rookie season\n",
    "int_end_year = 2023 # current season\n",
    "list_int_year = list(range(int_start_year, int_end_year+1))\n",
    "#pprint(list_int_year)"
   ]
  },
  {
   "cell_type": "code",
   "execution_count": 8,
   "id": "48278a32",
   "metadata": {},
   "outputs": [
    {
     "name": "stderr",
     "output_type": "stream",
     "text": [
      "  0%|                                                    | 0/20 [00:00<?, ?it/s]\n"
     ]
    },
    {
     "ename": "AttributeError",
     "evalue": "'NoneType' object has no attribute 'findAll'",
     "output_type": "error",
     "traceback": [
      "\u001b[0;31m---------------------------------------------------------------------------\u001b[0m",
      "\u001b[0;31mAttributeError\u001b[0m                            Traceback (most recent call last)",
      "Input \u001b[0;32mIn [8]\u001b[0m, in \u001b[0;36m<cell line: 3>\u001b[0;34m()\u001b[0m\n\u001b[1;32m      6\u001b[0m table \u001b[38;5;241m=\u001b[39m get_table(str_url\u001b[38;5;241m=\u001b[39mstr_url)\n\u001b[1;32m      7\u001b[0m \u001b[38;5;66;03m# get the rows\u001b[39;00m\n\u001b[0;32m----> 8\u001b[0m list_rows \u001b[38;5;241m=\u001b[39m \u001b[43mtable\u001b[49m\u001b[38;5;241;43m.\u001b[39;49m\u001b[43mfindAll\u001b[49m(\u001b[38;5;124m'\u001b[39m\u001b[38;5;124mtr\u001b[39m\u001b[38;5;124m'\u001b[39m)[\u001b[38;5;241m1\u001b[39m:]\n\u001b[1;32m      9\u001b[0m \u001b[38;5;28;01mfor\u001b[39;00m row \u001b[38;5;129;01min\u001b[39;00m list_rows:\n\u001b[1;32m     10\u001b[0m     \u001b[38;5;66;03m# get columns\u001b[39;00m\n\u001b[1;32m     11\u001b[0m     list_columns \u001b[38;5;241m=\u001b[39m row\u001b[38;5;241m.\u001b[39mfindAll(\u001b[38;5;124m'\u001b[39m\u001b[38;5;124mtd\u001b[39m\u001b[38;5;124m'\u001b[39m)\n",
      "\u001b[0;31mAttributeError\u001b[0m: 'NoneType' object has no attribute 'findAll'"
     ]
    }
   ],
   "source": [
    "# create df\n",
    "list_dict_row = []\n",
    "for int_year in tqdm (list_int_year):\n",
    "    # get table\n",
    "    str_url = f\"https://www.basketball-reference.com/players/{dict_input[str_player]['str_name']}/gamelog/{int_year}\"\n",
    "    table = get_table(str_url=str_url)\n",
    "    # get the rows\n",
    "    list_rows = table.findAll('tr')[1:]\n",
    "    for row in list_rows:\n",
    "        # get columns\n",
    "        list_columns = row.findAll('td')\n",
    "        try:\n",
    "            # get columns\n",
    "            list_columns = row.findAll('td')\n",
    "            # create row\n",
    "            dict_row = {\n",
    "                'year': int_year,\n",
    "                'game_number': int(list_columns[0].text),\n",
    "                'date': list_columns[1].text,\n",
    "                'points': int(list_columns[26].text),\n",
    "            }\n",
    "            # append\n",
    "            list_dict_row.append(dict_row)\n",
    "        except IndexError:\n",
    "            pass\n",
    "        except ValueError:\n",
    "            pass\n",
    "\n",
    "# create df\n",
    "df = pd.DataFrame(list_dict_row)\n",
    "# save locally\n",
    "str_filename = 'df.csv'\n",
    "str_local_path = f'{str_dirname_output}/{str_filename}'\n",
    "df.to_csv(str_local_path, index=False)\n",
    "# show\n",
    "df"
   ]
  },
  {
   "cell_type": "markdown",
   "id": "c94d23dc",
   "metadata": {},
   "source": [
    "## Prep data"
   ]
  },
  {
   "cell_type": "code",
   "execution_count": null,
   "id": "d624754a",
   "metadata": {},
   "outputs": [],
   "source": [
    "str_target = 'cumulative_points'\n",
    "str_filename = 'df.csv'\n",
    "str_local_path = f'{str_dirname_output}/{str_filename}'\n",
    "df = pd.read_csv(str_local_path)\n",
    "# get total games played\n",
    "df['total_games_played'] = list(range(1, df.shape[0]+1))\n",
    "# get cumulative points\n",
    "df[str_target] = np.cumsum(df['points'])\n",
    "# show\n",
    "df"
   ]
  },
  {
   "cell_type": "markdown",
   "id": "ae9f48c0",
   "metadata": {},
   "source": [
    "## Plot"
   ]
  },
  {
   "cell_type": "code",
   "execution_count": null,
   "id": "44d31816",
   "metadata": {},
   "outputs": [],
   "source": [
    "fig, ax = plt.subplots(figsize=(10,7))\n",
    "ax.set_title(f'Cumulative Points by Total Games Played ({str_player})')\n",
    "ax.set_xlabel('Total Games Played')\n",
    "ax.set_ylabel('Cumulative Points')\n",
    "ax.plot(df['total_games_played'], df[str_target])\n",
    "str_filename = 'plt_trend.png'\n",
    "str_local_path = f'{str_dirname_output}/{str_filename}'\n",
    "plt.savefig(str_local_path, bbox_inches='tight')\n",
    "plt.show()"
   ]
  },
  {
   "cell_type": "markdown",
   "id": "2f19074a",
   "metadata": {},
   "source": [
    "## Fit OLS Regressor"
   ]
  },
  {
   "cell_type": "code",
   "execution_count": null,
   "id": "d3df0594",
   "metadata": {},
   "outputs": [],
   "source": [
    "# train-test split\n",
    "int_n_rows_all = df.shape[0]\n",
    "print(f'There are {int_n_rows_all} rows in df')\n",
    "flt_prop_train = 0.66\n",
    "int_n_rows_train = round(int_n_rows_all * flt_prop_train)\n",
    "df_train = df.copy().iloc[:int_n_rows_train, :]\n",
    "print(f'There are {int_n_rows_train} rows in df_train')\n",
    "df_test = df.copy().iloc[int_n_rows_train:, :]\n",
    "print(f'There are {df_test.shape[0]} rows in df_test')"
   ]
  },
  {
   "cell_type": "code",
   "execution_count": null,
   "id": "c5560d97",
   "metadata": {},
   "outputs": [],
   "source": [
    "# X y split\n",
    "list_cols = [\n",
    "    'total_games_played',\n",
    "]\n",
    "X_train = df_train[list_cols]\n",
    "y_train = df_train[str_target]\n",
    "X_test = df_test[list_cols]\n",
    "y_test = df_test[str_target]"
   ]
  },
  {
   "cell_type": "code",
   "execution_count": null,
   "id": "a6d3ce1c",
   "metadata": {},
   "outputs": [],
   "source": [
    "# initialize model\n",
    "cls_model_inference = OLSRegression()\n",
    "# fit model on training data\n",
    "cls_model_inference.fit(\n",
    "    X=X_train,\n",
    "    y=y_train,\n",
    ")\n",
    "dict_col_betas = cls_model_inference.dict_col_betas\n",
    "print('Beta coefficients:')\n",
    "print(dict_col_betas)\n",
    "print('')\n",
    "\n",
    "# in-sample predictions\n",
    "cls_model_inference.predict(X=X_train)\n",
    "list_predictions_train = cls_model_inference.list_predictions\n",
    "# in-sample evaluation\n",
    "dict_eval_metrics = cls_model_inference.evaluate(y=y_train)\n",
    "print('In-Sample:')\n",
    "pprint(dict_eval_metrics)\n",
    "print('')\n",
    "\n",
    "# out-of-sample predictions\n",
    "cls_model_inference.predict(X=X_test)\n",
    "list_predictions_test = cls_model_inference.list_predictions\n",
    "# out-of-sample evaluation\n",
    "dict_eval_metrics = cls_model_inference.evaluate(y=y_test)\n",
    "print('Out-of-sample:')\n",
    "pprint(dict_eval_metrics)"
   ]
  },
  {
   "cell_type": "markdown",
   "id": "57f717a5",
   "metadata": {},
   "source": [
    "## Plot predicted and actual"
   ]
  },
  {
   "cell_type": "code",
   "execution_count": null,
   "id": "f0bab06a",
   "metadata": {},
   "outputs": [],
   "source": [
    "fig, ax = plt.subplots(figsize=(10,7))\n",
    "y_hat = list_predictions_train + list_predictions_test\n",
    "ax.set_title(f'Predicted and Actual Cumulative Points by Total Games Played ({str_player})')\n",
    "ax.plot(df['total_games_played'], y_hat, color='tab:blue', label='Predicted') # predicted\n",
    "ax.plot(df['total_games_played'], df[str_target], color='tab:red', label='Actual') # actual\n",
    "ax.axvline(np.max(df_train['total_games_played']), linestyle='--', label='End of Train') # end of training data\n",
    "plt.legend()\n",
    "str_filename = 'plt_y_hat.png'\n",
    "str_local_path = f'{str_dirname_output}/{str_filename}'\n",
    "plt.savefig(str_local_path, bbox_inches='tight')\n",
    "plt.show()"
   ]
  },
  {
   "cell_type": "markdown",
   "id": "aef34b0c",
   "metadata": {},
   "source": [
    "## Find the number of career games at or above 38,388 career points"
   ]
  },
  {
   "cell_type": "code",
   "execution_count": null,
   "id": "1e9b359f",
   "metadata": {},
   "outputs": [],
   "source": [
    "int_pts_goal = 38388\n",
    "flt_predicted_points = 0.0\n",
    "int_total_games_played_start = np.max(df['total_games_played'])+1\n",
    "list_dict_row = []\n",
    "while flt_predicted_points < int_pts_goal:\n",
    "    # get predicted points\n",
    "    flt_predicted_points = dict_col_betas['total_games_played'] * int_total_games_played_start\n",
    "    # make row\n",
    "    dict_row = {\n",
    "        'total_games_played': int_total_games_played_start,\n",
    "        'cumulative_points': flt_predicted_points,\n",
    "    }\n",
    "    list_dict_row.append(dict_row)\n",
    "    # increase int_total_games_played_start\n",
    "    int_total_games_played_start += 1\n",
    "\n",
    "# df\n",
    "df_extrapolate = pd.DataFrame(list_dict_row)\n",
    "str_filename = 'df_extrapolate.csv'\n",
    "str_local_path = f'{str_dirname_output}/{str_filename}'\n",
    "df_extrapolate.to_csv(str_local_path, index=False)\n",
    "# message\n",
    "int_career_game_record = np.max(df_extrapolate['total_games_played'])\n",
    "print(f'{str_player} is predicted to break the scoring record ({int_pts_goal-1}) in his {int_career_game_record}th career game')\n",
    "int_n_games_season = 82\n",
    "flt_seasons = df_extrapolate.shape[0] / int_n_games_season\n",
    "print(f'This will take about {flt_seasons:0.2f} seasons ({int_n_games_season} games per season)')\n",
    "# show\n",
    "df_extrapolate"
   ]
  }
 ],
 "metadata": {
  "kernelspec": {
   "display_name": "Python 3 (ipykernel)",
   "language": "python",
   "name": "python3"
  },
  "language_info": {
   "codemirror_mode": {
    "name": "ipython",
    "version": 3
   },
   "file_extension": ".py",
   "mimetype": "text/x-python",
   "name": "python",
   "nbconvert_exporter": "python",
   "pygments_lexer": "ipython3",
   "version": "3.9.12"
  }
 },
 "nbformat": 4,
 "nbformat_minor": 5
}
