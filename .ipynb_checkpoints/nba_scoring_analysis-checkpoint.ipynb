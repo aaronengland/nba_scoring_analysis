{
 "cells": [
  {
   "cell_type": "markdown",
   "id": "68fbad68",
   "metadata": {},
   "source": [
    "# NBA Scoring Forecaster"
   ]
  },
  {
   "cell_type": "markdown",
   "id": "19897836",
   "metadata": {},
   "source": [
    "### Determine the number of games for a current NBA player to meet or surpass a career points threshold using self-defined Ordinary Least Squares (OLS) regression model."
   ]
  },
  {
   "cell_type": "markdown",
   "id": "a37fc75c",
   "metadata": {},
   "source": [
    "### Contents"
   ]
  },
  {
   "cell_type": "markdown",
   "id": "e6478f8e",
   "metadata": {},
   "source": [
    "1. Collect data via web scraping [basketball-reference](https://www.basketball-reference.com/)\n",
    "2. Prepare data\n",
    "3. Fit and evaluate OLS model to predict points by career games\n",
    "4. Determine the number of games to meet or exceed career points threshold"
   ]
  },
  {
   "cell_type": "code",
   "execution_count": 1,
   "id": "cebc94bb",
   "metadata": {},
   "outputs": [],
   "source": [
    "import os\n",
    "import requests\n",
    "from bs4 import BeautifulSoup\n",
    "import pandas as pd\n",
    "import numpy as np\n",
    "from pprint import pprint\n",
    "from tqdm import tqdm\n",
    "import matplotlib.pyplot as plt\n",
    "import seaborn as sns\n",
    "from numpy.linalg import inv\n",
    "from sklearn.metrics import mean_absolute_error, mean_squared_error, r2_score"
   ]
  },
  {
   "cell_type": "markdown",
   "id": "a227b95e",
   "metadata": {},
   "source": [
    "## Pick a player"
   ]
  },
  {
   "cell_type": "code",
   "execution_count": 2,
   "id": "4ccd1306",
   "metadata": {},
   "outputs": [
    {
     "name": "stdout",
     "output_type": "stream",
     "text": [
      "Selected player: Patrick_Beverley\n"
     ]
    }
   ],
   "source": [
    "# pick a player (LeBron, Luka, KD, Giannis, Steph, Patrick_Beverley)\n",
    "str_player = 'Patrick_Beverley'\n",
    "print(f'Selected player: {str_player}')"
   ]
  },
  {
   "cell_type": "markdown",
   "id": "39f0bdbd",
   "metadata": {},
   "source": [
    "## Determine a threshold"
   ]
  },
  {
   "cell_type": "code",
   "execution_count": 3,
   "id": "39243e71",
   "metadata": {},
   "outputs": [
    {
     "name": "stdout",
     "output_type": "stream",
     "text": [
      "Career points threshold: 38388\n"
     ]
    }
   ],
   "source": [
    "# number of points to reach or surpass\n",
    "int_pts_goal = 38388\n",
    "print(f'Career points threshold: {int_pts_goal}')"
   ]
  },
  {
   "cell_type": "markdown",
   "id": "a9511eab",
   "metadata": {},
   "source": [
    "## Define functions"
   ]
  },
  {
   "cell_type": "code",
   "execution_count": 4,
   "id": "7a1ab0b7",
   "metadata": {},
   "outputs": [],
   "source": [
    "# make output directory\n",
    "def make_output_directory(str_dirname_output):\n",
    "    print(f'Output directory: {str_dirname_output}')\n",
    "    try:\n",
    "        os.mkdir(str_dirname_output)\n",
    "    except FileExistsError:\n",
    "        pass"
   ]
  },
  {
   "cell_type": "code",
   "execution_count": 5,
   "id": "c5615a2c",
   "metadata": {},
   "outputs": [],
   "source": [
    "# define function to get table from url\n",
    "def get_table(str_url):\n",
    "    r = requests.get(str_url)\n",
    "    # get content of page\n",
    "    soup = BeautifulSoup(r.content, 'html.parser')\n",
    "    # get the table\n",
    "    table = soup.find('table', {'id': 'pgl_basic'})\n",
    "    return table"
   ]
  },
  {
   "cell_type": "code",
   "execution_count": 6,
   "id": "ed1a660f",
   "metadata": {},
   "outputs": [],
   "source": [
    "# collect data\n",
    "def collect_data(list_int_year, dict_input, str_player, str_dirname_output):\n",
    "    # create df\n",
    "    list_dict_row = []\n",
    "    for int_year in tqdm (list_int_year):\n",
    "        # get table\n",
    "        str_url = f\"https://www.basketball-reference.com/players/{dict_input[str_player]['str_name']}/gamelog/{int_year}\"\n",
    "        table = get_table(str_url=str_url)\n",
    "        # get the rows\n",
    "        list_rows = table.findAll('tr')[1:]\n",
    "        for row in list_rows:\n",
    "            # get columns\n",
    "            list_columns = row.findAll('td')\n",
    "            try:\n",
    "                # get columns\n",
    "                list_columns = row.findAll('td')\n",
    "                # create row\n",
    "                dict_row = {\n",
    "                    'year': int_year,\n",
    "                    'game_number': int(list_columns[0].text),\n",
    "                    'date': list_columns[1].text,\n",
    "                    'points': int(list_columns[26].text),\n",
    "                }\n",
    "                # append\n",
    "                list_dict_row.append(dict_row)\n",
    "            except IndexError:\n",
    "                pass\n",
    "            except ValueError:\n",
    "                pass\n",
    "    # create df\n",
    "    df = pd.DataFrame(list_dict_row)\n",
    "    # save locally\n",
    "    str_filename = 'df.csv'\n",
    "    str_local_path = f'{str_dirname_output}/{str_filename}'\n",
    "    df.to_csv(str_local_path, index=False)\n",
    "    # return\n",
    "    return df"
   ]
  },
  {
   "cell_type": "code",
   "execution_count": 7,
   "id": "4e3999e1",
   "metadata": {},
   "outputs": [],
   "source": [
    "# train-test split\n",
    "def train_test_split(df, flt_prop_train=0.66, bool_verbose=True):\n",
    "    int_n_rows_all = df.shape[0]\n",
    "    int_n_rows_train = round(int_n_rows_all * flt_prop_train)\n",
    "    df_train = df.copy().iloc[:int_n_rows_train, :]\n",
    "    df_test = df.copy().iloc[int_n_rows_train:, :]\n",
    "    # messages\n",
    "    if bool_verbose:\n",
    "        print(f'There are {int_n_rows_all} rows in df')\n",
    "        print(f'There are {int_n_rows_train} rows in df_train')\n",
    "        print(f'There are {df_test.shape[0]} rows in df_test')\n",
    "    else:\n",
    "        pass\n",
    "    # return\n",
    "    return df_train, df_test"
   ]
  },
  {
   "cell_type": "code",
   "execution_count": 8,
   "id": "507a2cd2",
   "metadata": {},
   "outputs": [],
   "source": [
    "# x y split\n",
    "def x_y_split(list_cols_model, str_target, df_train, df_test):\n",
    "    # train\n",
    "    X_train = df_train[list_cols_model]\n",
    "    y_train = df_train[str_target]\n",
    "    # test\n",
    "    X_test = df_test[list_cols_model]\n",
    "    y_test = df_test[str_target]\n",
    "    # return\n",
    "    return X_train, y_train, X_test, y_test"
   ]
  },
  {
   "cell_type": "code",
   "execution_count": 9,
   "id": "5c6ff399",
   "metadata": {},
   "outputs": [],
   "source": [
    "# linear regression class\n",
    "class OLSRegression:\n",
    "    # initialize class\n",
    "    def __init__(self):\n",
    "        pass\n",
    "    # fit the model\n",
    "    def fit(self, X, y):\n",
    "        # ordinary least squares b = (XT*X)^-1 * XT*y\n",
    "        arr_betas = inv(X.T.dot(X)).dot(X.T).dot(y)\n",
    "        # create dictionary\n",
    "        dict_col_betas = dict(zip(X.columns, arr_betas))\n",
    "        # save to class\n",
    "        self.dict_col_betas = dict_col_betas\n",
    "        # return self\n",
    "        return self\n",
    "    # generate predictions\n",
    "    def predict(self, X):\n",
    "        # multiply each cell by its beta\n",
    "        list_predictions = list(X.dot(pd.Series(self.dict_col_betas)))\n",
    "        # save to class\n",
    "        self.list_predictions = list_predictions\n",
    "        # return self\n",
    "        return self\n",
    "    # evaluate performance\n",
    "    def evaluate(self, y):\n",
    "        # get mean absolute error\n",
    "        mae = mean_absolute_error(y_true=y, y_pred=self.list_predictions)\n",
    "        # get mean squared error\n",
    "        mse = mean_squared_error(y_true=y, y_pred=self.list_predictions)\n",
    "        # get root mean square error\n",
    "        rmse = np.sqrt(mse)\n",
    "        # get explained variance (R2)\n",
    "        r2 = r2_score(y_true=y, y_pred=self.list_predictions)\n",
    "        # create dictionary\n",
    "        dict_eval_metrics = {'mae': mae, 'mse': mse, 'rmse': rmse, 'r2': r2}\n",
    "        # return dict_eval_metrics\n",
    "        return dict_eval_metrics"
   ]
  },
  {
   "cell_type": "code",
   "execution_count": 10,
   "id": "3ddbd9b7",
   "metadata": {},
   "outputs": [],
   "source": [
    "# games to surpass threshold\n",
    "def games_to_threshold(df, str_predictor, int_pts_goal, dict_col_betas, flt_median_residual, str_target, str_dirname_output):\n",
    "    flt_predicted_points = 0.0\n",
    "    int_total_games_played_start = np.max(df[str_predictor])+1\n",
    "    list_dict_row = []\n",
    "    while flt_predicted_points < int_pts_goal:\n",
    "        # get predicted points\n",
    "        flt_predicted_points = (dict_col_betas[str_predictor] * int_total_games_played_start) - flt_median_residual\n",
    "        # make row\n",
    "        dict_row = {\n",
    "            str_predictor: int_total_games_played_start,\n",
    "            str_target: flt_predicted_points,\n",
    "        }\n",
    "        list_dict_row.append(dict_row)\n",
    "        # increase int_total_games_played_start\n",
    "        int_total_games_played_start += 1\n",
    "\n",
    "    # df\n",
    "    df_extrapolate = pd.DataFrame(list_dict_row)\n",
    "    str_filename = 'df_extrapolate.csv'\n",
    "    str_local_path = f'{str_dirname_output}/{str_filename}'\n",
    "    df_extrapolate.to_csv(str_local_path, index=False)\n",
    "    # message\n",
    "    int_career_game_record = np.max(df_extrapolate[str_predictor])\n",
    "    print(f'{str_player} is predicted to reach and/or eclipse the chosen points threshold ({int_pts_goal}) in his {int_career_game_record}th career game')\n",
    "    flt_seasons = df_extrapolate.shape[0] / flt_median_games_per_season\n",
    "    print(f'This will take about {flt_seasons:0.2f} more seasons ({flt_median_games_per_season} games per season)')\n",
    "    # return\n",
    "    return df_extrapolate"
   ]
  },
  {
   "cell_type": "markdown",
   "id": "2932516c",
   "metadata": {},
   "source": [
    "## Input dictionary"
   ]
  },
  {
   "cell_type": "code",
   "execution_count": 11,
   "id": "ece2064e",
   "metadata": {},
   "outputs": [],
   "source": [
    "dict_input = {\n",
    "    'LeBron': {\n",
    "        'int_start_year': 2004,\n",
    "        'str_name': '/j/jamesle01',\n",
    "    },\n",
    "    'Luka': {\n",
    "        'int_start_year': 2019,\n",
    "        'str_name': 'd/doncilu01',\n",
    "    },\n",
    "    'KD': {\n",
    "        'int_start_year': 2008,\n",
    "        'str_name': 'd/duranke01',\n",
    "    },\n",
    "    'Giannis': {\n",
    "        'int_start_year': 2014,\n",
    "        'str_name': 'a/antetgi01',\n",
    "    },\n",
    "    'Steph': {\n",
    "        'int_start_year': 2010,\n",
    "        'str_name': 'c/curryst01',\n",
    "    },\n",
    "    'Patrick_Beverley': {\n",
    "        'int_start_year': 2013,\n",
    "        'str_name': 'b/beverpa01',\n",
    "    },\n",
    "}"
   ]
  },
  {
   "cell_type": "markdown",
   "id": "30626c4b",
   "metadata": {},
   "source": [
    "## Make output directory named after selected player"
   ]
  },
  {
   "cell_type": "code",
   "execution_count": 12,
   "id": "2ba2beaf",
   "metadata": {},
   "outputs": [
    {
     "name": "stdout",
     "output_type": "stream",
     "text": [
      "Output directory: ./Patrick_Beverley\n"
     ]
    }
   ],
   "source": [
    "# make output directory\n",
    "str_dirname_output = f'./{str_player}'\n",
    "make_output_directory(str_dirname_output=str_dirname_output)"
   ]
  },
  {
   "cell_type": "markdown",
   "id": "cd58302f",
   "metadata": {},
   "source": [
    "## Scrape all games played to collect data"
   ]
  },
  {
   "cell_type": "code",
   "execution_count": 13,
   "id": "0c2626c0",
   "metadata": {},
   "outputs": [],
   "source": [
    "# create list of years\n",
    "int_start_year = dict_input[str_player]['int_start_year'] # rookie season\n",
    "int_end_year = 2023 # current season\n",
    "list_int_year = list(range(int_start_year, int_end_year+1))"
   ]
  },
  {
   "cell_type": "code",
   "execution_count": 14,
   "id": "f17d5cad",
   "metadata": {},
   "outputs": [
    {
     "name": "stderr",
     "output_type": "stream",
     "text": [
      "100%|███████████████████████████████████████████| 11/11 [00:08<00:00,  1.29it/s]\n"
     ]
    },
    {
     "data": {
      "text/html": [
       "<div>\n",
       "<style scoped>\n",
       "    .dataframe tbody tr th:only-of-type {\n",
       "        vertical-align: middle;\n",
       "    }\n",
       "\n",
       "    .dataframe tbody tr th {\n",
       "        vertical-align: top;\n",
       "    }\n",
       "\n",
       "    .dataframe thead th {\n",
       "        text-align: right;\n",
       "    }\n",
       "</style>\n",
       "<table border=\"1\" class=\"dataframe\">\n",
       "  <thead>\n",
       "    <tr style=\"text-align: right;\">\n",
       "      <th></th>\n",
       "      <th>year</th>\n",
       "      <th>game_number</th>\n",
       "      <th>date</th>\n",
       "      <th>points</th>\n",
       "    </tr>\n",
       "  </thead>\n",
       "  <tbody>\n",
       "    <tr>\n",
       "      <th>0</th>\n",
       "      <td>2013</td>\n",
       "      <td>1</td>\n",
       "      <td>2013-01-15</td>\n",
       "      <td>3</td>\n",
       "    </tr>\n",
       "    <tr>\n",
       "      <th>1</th>\n",
       "      <td>2013</td>\n",
       "      <td>2</td>\n",
       "      <td>2013-01-16</td>\n",
       "      <td>7</td>\n",
       "    </tr>\n",
       "    <tr>\n",
       "      <th>2</th>\n",
       "      <td>2013</td>\n",
       "      <td>3</td>\n",
       "      <td>2013-01-18</td>\n",
       "      <td>8</td>\n",
       "    </tr>\n",
       "    <tr>\n",
       "      <th>3</th>\n",
       "      <td>2013</td>\n",
       "      <td>4</td>\n",
       "      <td>2013-01-19</td>\n",
       "      <td>2</td>\n",
       "    </tr>\n",
       "    <tr>\n",
       "      <th>4</th>\n",
       "      <td>2013</td>\n",
       "      <td>5</td>\n",
       "      <td>2013-01-21</td>\n",
       "      <td>10</td>\n",
       "    </tr>\n",
       "    <tr>\n",
       "      <th>...</th>\n",
       "      <td>...</td>\n",
       "      <td>...</td>\n",
       "      <td>...</td>\n",
       "      <td>...</td>\n",
       "    </tr>\n",
       "    <tr>\n",
       "      <th>554</th>\n",
       "      <td>2023</td>\n",
       "      <td>29</td>\n",
       "      <td>2022-12-30</td>\n",
       "      <td>10</td>\n",
       "    </tr>\n",
       "    <tr>\n",
       "      <th>555</th>\n",
       "      <td>2023</td>\n",
       "      <td>30</td>\n",
       "      <td>2023-01-02</td>\n",
       "      <td>6</td>\n",
       "    </tr>\n",
       "    <tr>\n",
       "      <th>556</th>\n",
       "      <td>2023</td>\n",
       "      <td>31</td>\n",
       "      <td>2023-01-04</td>\n",
       "      <td>4</td>\n",
       "    </tr>\n",
       "    <tr>\n",
       "      <th>557</th>\n",
       "      <td>2023</td>\n",
       "      <td>32</td>\n",
       "      <td>2023-01-06</td>\n",
       "      <td>5</td>\n",
       "    </tr>\n",
       "    <tr>\n",
       "      <th>558</th>\n",
       "      <td>2023</td>\n",
       "      <td>33</td>\n",
       "      <td>2023-01-07</td>\n",
       "      <td>6</td>\n",
       "    </tr>\n",
       "  </tbody>\n",
       "</table>\n",
       "<p>559 rows × 4 columns</p>\n",
       "</div>"
      ],
      "text/plain": [
       "     year  game_number        date  points\n",
       "0    2013            1  2013-01-15       3\n",
       "1    2013            2  2013-01-16       7\n",
       "2    2013            3  2013-01-18       8\n",
       "3    2013            4  2013-01-19       2\n",
       "4    2013            5  2013-01-21      10\n",
       "..    ...          ...         ...     ...\n",
       "554  2023           29  2022-12-30      10\n",
       "555  2023           30  2023-01-02       6\n",
       "556  2023           31  2023-01-04       4\n",
       "557  2023           32  2023-01-06       5\n",
       "558  2023           33  2023-01-07       6\n",
       "\n",
       "[559 rows x 4 columns]"
      ]
     },
     "execution_count": 14,
     "metadata": {},
     "output_type": "execute_result"
    }
   ],
   "source": [
    "# collect data\n",
    "df = collect_data(\n",
    "    list_int_year=list_int_year, \n",
    "    dict_input=dict_input, \n",
    "    str_player=str_player, \n",
    "    str_dirname_output=str_dirname_output,\n",
    ")\n",
    "# show\n",
    "df"
   ]
  },
  {
   "cell_type": "markdown",
   "id": "c94d23dc",
   "metadata": {},
   "source": [
    "## Prep data"
   ]
  },
  {
   "cell_type": "code",
   "execution_count": 15,
   "id": "d624754a",
   "metadata": {},
   "outputs": [
    {
     "data": {
      "text/html": [
       "<div>\n",
       "<style scoped>\n",
       "    .dataframe tbody tr th:only-of-type {\n",
       "        vertical-align: middle;\n",
       "    }\n",
       "\n",
       "    .dataframe tbody tr th {\n",
       "        vertical-align: top;\n",
       "    }\n",
       "\n",
       "    .dataframe thead th {\n",
       "        text-align: right;\n",
       "    }\n",
       "</style>\n",
       "<table border=\"1\" class=\"dataframe\">\n",
       "  <thead>\n",
       "    <tr style=\"text-align: right;\">\n",
       "      <th></th>\n",
       "      <th>year</th>\n",
       "      <th>game_number</th>\n",
       "      <th>date</th>\n",
       "      <th>points</th>\n",
       "      <th>total_games_played</th>\n",
       "      <th>cumulative_points</th>\n",
       "    </tr>\n",
       "  </thead>\n",
       "  <tbody>\n",
       "    <tr>\n",
       "      <th>0</th>\n",
       "      <td>2013</td>\n",
       "      <td>1</td>\n",
       "      <td>2013-01-15</td>\n",
       "      <td>3</td>\n",
       "      <td>1</td>\n",
       "      <td>3</td>\n",
       "    </tr>\n",
       "    <tr>\n",
       "      <th>1</th>\n",
       "      <td>2013</td>\n",
       "      <td>2</td>\n",
       "      <td>2013-01-16</td>\n",
       "      <td>7</td>\n",
       "      <td>2</td>\n",
       "      <td>10</td>\n",
       "    </tr>\n",
       "    <tr>\n",
       "      <th>2</th>\n",
       "      <td>2013</td>\n",
       "      <td>3</td>\n",
       "      <td>2013-01-18</td>\n",
       "      <td>8</td>\n",
       "      <td>3</td>\n",
       "      <td>18</td>\n",
       "    </tr>\n",
       "    <tr>\n",
       "      <th>3</th>\n",
       "      <td>2013</td>\n",
       "      <td>4</td>\n",
       "      <td>2013-01-19</td>\n",
       "      <td>2</td>\n",
       "      <td>4</td>\n",
       "      <td>20</td>\n",
       "    </tr>\n",
       "    <tr>\n",
       "      <th>4</th>\n",
       "      <td>2013</td>\n",
       "      <td>5</td>\n",
       "      <td>2013-01-21</td>\n",
       "      <td>10</td>\n",
       "      <td>5</td>\n",
       "      <td>30</td>\n",
       "    </tr>\n",
       "    <tr>\n",
       "      <th>...</th>\n",
       "      <td>...</td>\n",
       "      <td>...</td>\n",
       "      <td>...</td>\n",
       "      <td>...</td>\n",
       "      <td>...</td>\n",
       "      <td>...</td>\n",
       "    </tr>\n",
       "    <tr>\n",
       "      <th>554</th>\n",
       "      <td>2023</td>\n",
       "      <td>29</td>\n",
       "      <td>2022-12-30</td>\n",
       "      <td>10</td>\n",
       "      <td>555</td>\n",
       "      <td>4831</td>\n",
       "    </tr>\n",
       "    <tr>\n",
       "      <th>555</th>\n",
       "      <td>2023</td>\n",
       "      <td>30</td>\n",
       "      <td>2023-01-02</td>\n",
       "      <td>6</td>\n",
       "      <td>556</td>\n",
       "      <td>4837</td>\n",
       "    </tr>\n",
       "    <tr>\n",
       "      <th>556</th>\n",
       "      <td>2023</td>\n",
       "      <td>31</td>\n",
       "      <td>2023-01-04</td>\n",
       "      <td>4</td>\n",
       "      <td>557</td>\n",
       "      <td>4841</td>\n",
       "    </tr>\n",
       "    <tr>\n",
       "      <th>557</th>\n",
       "      <td>2023</td>\n",
       "      <td>32</td>\n",
       "      <td>2023-01-06</td>\n",
       "      <td>5</td>\n",
       "      <td>558</td>\n",
       "      <td>4846</td>\n",
       "    </tr>\n",
       "    <tr>\n",
       "      <th>558</th>\n",
       "      <td>2023</td>\n",
       "      <td>33</td>\n",
       "      <td>2023-01-07</td>\n",
       "      <td>6</td>\n",
       "      <td>559</td>\n",
       "      <td>4852</td>\n",
       "    </tr>\n",
       "  </tbody>\n",
       "</table>\n",
       "<p>559 rows × 6 columns</p>\n",
       "</div>"
      ],
      "text/plain": [
       "     year  game_number        date  points  total_games_played  \\\n",
       "0    2013            1  2013-01-15       3                   1   \n",
       "1    2013            2  2013-01-16       7                   2   \n",
       "2    2013            3  2013-01-18       8                   3   \n",
       "3    2013            4  2013-01-19       2                   4   \n",
       "4    2013            5  2013-01-21      10                   5   \n",
       "..    ...          ...         ...     ...                 ...   \n",
       "554  2023           29  2022-12-30      10                 555   \n",
       "555  2023           30  2023-01-02       6                 556   \n",
       "556  2023           31  2023-01-04       4                 557   \n",
       "557  2023           32  2023-01-06       5                 558   \n",
       "558  2023           33  2023-01-07       6                 559   \n",
       "\n",
       "     cumulative_points  \n",
       "0                    3  \n",
       "1                   10  \n",
       "2                   18  \n",
       "3                   20  \n",
       "4                   30  \n",
       "..                 ...  \n",
       "554               4831  \n",
       "555               4837  \n",
       "556               4841  \n",
       "557               4846  \n",
       "558               4852  \n",
       "\n",
       "[559 rows x 6 columns]"
      ]
     },
     "execution_count": 15,
     "metadata": {},
     "output_type": "execute_result"
    }
   ],
   "source": [
    "str_predictor = 'total_games_played'\n",
    "str_target = 'cumulative_points'\n",
    "str_filename = 'df.csv'\n",
    "str_local_path = f'{str_dirname_output}/{str_filename}'\n",
    "df = pd.read_csv(str_local_path)\n",
    "# get total games played\n",
    "df[str_predictor] = list(range(1, df.shape[0]+1))\n",
    "# get cumulative points\n",
    "df[str_target] = np.cumsum(df['points'])\n",
    "# show\n",
    "df"
   ]
  },
  {
   "cell_type": "markdown",
   "id": "ae9f48c0",
   "metadata": {},
   "source": [
    "## Plot cumulative points by total games played"
   ]
  },
  {
   "cell_type": "code",
   "execution_count": 16,
   "id": "44d31816",
   "metadata": {},
   "outputs": [
    {
     "data": {
      "image/png": "[encoded data removed]",
      "text/plain": [
       "<Figure size 720x504 with 1 Axes>"
      ]
     },
     "metadata": {
      "needs_background": "light"
     },
     "output_type": "display_data"
    }
   ],
   "source": [
    "fig, ax = plt.subplots(figsize=(10,7))\n",
    "ax.set_title(f\"{str_player}'s Cumulative Points by Total Games Played\")\n",
    "ax.set_xlabel('Total Games Played')\n",
    "ax.set_ylabel('Cumulative Points')\n",
    "ax.plot(df[str_predictor], df[str_target])\n",
    "str_filename = 'plt_trend.png'\n",
    "str_local_path = f'{str_dirname_output}/{str_filename}'\n",
    "plt.savefig(str_local_path, bbox_inches='tight')\n",
    "plt.show()"
   ]
  },
  {
   "cell_type": "markdown",
   "id": "2f19074a",
   "metadata": {},
   "source": [
    "## Fit OLS regresson model"
   ]
  },
  {
   "cell_type": "code",
   "execution_count": 17,
   "id": "d3df0594",
   "metadata": {},
   "outputs": [
    {
     "name": "stdout",
     "output_type": "stream",
     "text": [
      "There are 559 rows in df\n",
      "There are 369 rows in df_train\n",
      "There are 190 rows in df_test\n",
      "\n",
      "Beta coefficients:\n",
      "{'total_games_played': 9.118307951173723}\n",
      "\n",
      "In-Sample:\n",
      "{'mae': 52.82618776614875,\n",
      " 'mse': 4636.493396904949,\n",
      " 'r2': 0.9955463230888072,\n",
      " 'rmse': 68.09180124585447}\n",
      "\n",
      "Out-of-sample:\n",
      "{'mae': 119.4329906886152,\n",
      " 'mse': 17757.198067713332,\n",
      " 'r2': 0.909948213107911,\n",
      " 'rmse': 133.25613707335708}\n"
     ]
    }
   ],
   "source": [
    "# train-test split\n",
    "df_train, df_test = train_test_split(\n",
    "    df=df, \n",
    "    flt_prop_train=0.66, \n",
    "    bool_verbose=True,\n",
    ")\n",
    "\n",
    "# x-y split\n",
    "X_train, y_train, X_test, y_test = x_y_split(\n",
    "    list_cols_model=[str_predictor], \n",
    "    str_target=str_target, \n",
    "    df_train=df_train, \n",
    "    df_test=df_test,\n",
    ")\n",
    "print('')\n",
    "\n",
    "# initialize model\n",
    "cls_model_inference = OLSRegression()\n",
    "# fit model on training data\n",
    "cls_model_inference.fit(\n",
    "    X=X_train,\n",
    "    y=y_train,\n",
    ")\n",
    "dict_col_betas = cls_model_inference.dict_col_betas\n",
    "print('Beta coefficients:')\n",
    "print(dict_col_betas)\n",
    "print('')\n",
    "\n",
    "# in-sample predictions\n",
    "cls_model_inference.predict(X=X_train)\n",
    "list_predictions_train = cls_model_inference.list_predictions\n",
    "# in-sample evaluation\n",
    "dict_eval_metrics = cls_model_inference.evaluate(y=y_train)\n",
    "print('In-Sample:')\n",
    "pprint(dict_eval_metrics)\n",
    "print('')\n",
    "\n",
    "# out-of-sample predictions\n",
    "cls_model_inference.predict(X=X_test)\n",
    "list_predictions_test = cls_model_inference.list_predictions\n",
    "# out-of-sample evaluation\n",
    "dict_eval_metrics = cls_model_inference.evaluate(y=y_test)\n",
    "print('Out-of-sample:')\n",
    "pprint(dict_eval_metrics)"
   ]
  },
  {
   "cell_type": "markdown",
   "id": "a330a18b",
   "metadata": {},
   "source": [
    "## Plot distribution of residuals"
   ]
  },
  {
   "cell_type": "code",
   "execution_count": 18,
   "id": "922fb872",
   "metadata": {},
   "outputs": [
    {
     "data": {
      "image/png": "[encoded data removed]",
      "text/plain": [
       "<Figure size 720x504 with 1 Axes>"
      ]
     },
     "metadata": {
      "needs_background": "light"
     },
     "output_type": "display_data"
    }
   ],
   "source": [
    "list_residuals = list(list_predictions_test - y_test)\n",
    "flt_median_residual = np.median(list_residuals)\n",
    "if flt_median_residual > 0:\n",
    "    str_over_under = 'Overpredicts'\n",
    "else:\n",
    "    str_over_under = 'Underpredicts'\n",
    "# create title\n",
    "str_title = f'Model {str_over_under} by {abs(flt_median_residual):0.2f} Points'    \n",
    "fig, ax = plt.subplots(figsize=(10,7))\n",
    "ax.set_title(str_title)\n",
    "ax.set_xlabel('Predicted - Actual')\n",
    "sns.kdeplot(list_residuals, ax=ax)\n",
    "str_filename = 'plt_residuals.png'\n",
    "str_local_path = f'{str_dirname_output}/{str_filename}'\n",
    "plt.savefig(str_local_path, bbox_inches='tight')\n",
    "plt.show()"
   ]
  },
  {
   "cell_type": "markdown",
   "id": "57f717a5",
   "metadata": {},
   "source": [
    "## Plot predicted and actual cumulative points by total games played"
   ]
  },
  {
   "cell_type": "code",
   "execution_count": 19,
   "id": "f0bab06a",
   "metadata": {},
   "outputs": [
    {
     "data": {
      "image/png": "[encoded data removed]",
      "text/plain": [
       "<Figure size 720x504 with 1 Axes>"
      ]
     },
     "metadata": {
      "needs_background": "light"
     },
     "output_type": "display_data"
    }
   ],
   "source": [
    "fig, ax = plt.subplots(figsize=(10,7))\n",
    "y_hat = list_predictions_train + list_predictions_test\n",
    "ax.set_title(f\"{str_player}'s Predicted and Actual Cumulative Points by Total Games Played\")\n",
    "ax.plot(df[str_predictor], y_hat, color='tab:blue', label='Predicted') # predicted\n",
    "ax.plot(df[str_predictor], df[str_target], color='tab:red', label='Actual') # actual\n",
    "ax.axvline(np.max(df_train[str_predictor]), linestyle='--', label='End of Train') # end of training data\n",
    "plt.legend()\n",
    "str_filename = 'plt_y_hat.png'\n",
    "str_local_path = f'{str_dirname_output}/{str_filename}'\n",
    "plt.savefig(str_local_path, bbox_inches='tight')\n",
    "plt.show()"
   ]
  },
  {
   "cell_type": "markdown",
   "id": "aef34b0c",
   "metadata": {},
   "source": [
    "## Find the number of career games to reach or surpass threshold"
   ]
  },
  {
   "cell_type": "code",
   "execution_count": 20,
   "id": "27cdcaff",
   "metadata": {},
   "outputs": [
    {
     "data": {
      "image/png": "[encoded data removed]",
      "text/plain": [
       "<Figure size 720x504 with 1 Axes>"
      ]
     },
     "metadata": {
      "needs_background": "light"
     },
     "output_type": "display_data"
    }
   ],
   "source": [
    "# get games played by season\n",
    "list_cols = ['year', 'game_number']\n",
    "df_grouped = df[list_cols].groupby(by='year', as_index=False).max()\n",
    "flt_median_games_per_season = np.median(df_grouped['game_number'])\n",
    "fig, ax = plt.subplots(figsize=(10,7))\n",
    "ax.set_title(f'{str_player} Typically Plays {flt_median_games_per_season:0.2f} Games per Season')\n",
    "ax.set_xlabel('Number of Games Played')\n",
    "sns.kdeplot(df_grouped['game_number'], ax=ax)\n",
    "str_filename = 'plt_games_per_season.png'\n",
    "str_local_path = f'{str_dirname_output}/{str_filename}'\n",
    "plt.savefig(str_local_path, bbox_inches='tight')\n",
    "plt.show()"
   ]
  },
  {
   "cell_type": "code",
   "execution_count": 21,
   "id": "bba5186f",
   "metadata": {},
   "outputs": [
    {
     "name": "stdout",
     "output_type": "stream",
     "text": [
      "Patrick_Beverley is predicted to reach and/or eclipse the chosen points threshold (38388) in his 4224th career game\n",
      "This will take about 65.45 more seasons (56.0 games per season)\n"
     ]
    },
    {
     "data": {
      "text/html": [
       "<div>\n",
       "<style scoped>\n",
       "    .dataframe tbody tr th:only-of-type {\n",
       "        vertical-align: middle;\n",
       "    }\n",
       "\n",
       "    .dataframe tbody tr th {\n",
       "        vertical-align: top;\n",
       "    }\n",
       "\n",
       "    .dataframe thead th {\n",
       "        text-align: right;\n",
       "    }\n",
       "</style>\n",
       "<table border=\"1\" class=\"dataframe\">\n",
       "  <thead>\n",
       "    <tr style=\"text-align: right;\">\n",
       "      <th></th>\n",
       "      <th>total_games_played</th>\n",
       "      <th>cumulative_points</th>\n",
       "    </tr>\n",
       "  </thead>\n",
       "  <tbody>\n",
       "    <tr>\n",
       "      <th>3655</th>\n",
       "      <td>4215</td>\n",
       "      <td>38306.137964</td>\n",
       "    </tr>\n",
       "    <tr>\n",
       "      <th>3656</th>\n",
       "      <td>4216</td>\n",
       "      <td>38315.256272</td>\n",
       "    </tr>\n",
       "    <tr>\n",
       "      <th>3657</th>\n",
       "      <td>4217</td>\n",
       "      <td>38324.374580</td>\n",
       "    </tr>\n",
       "    <tr>\n",
       "      <th>3658</th>\n",
       "      <td>4218</td>\n",
       "      <td>38333.492888</td>\n",
       "    </tr>\n",
       "    <tr>\n",
       "      <th>3659</th>\n",
       "      <td>4219</td>\n",
       "      <td>38342.611196</td>\n",
       "    </tr>\n",
       "    <tr>\n",
       "      <th>3660</th>\n",
       "      <td>4220</td>\n",
       "      <td>38351.729504</td>\n",
       "    </tr>\n",
       "    <tr>\n",
       "      <th>3661</th>\n",
       "      <td>4221</td>\n",
       "      <td>38360.847812</td>\n",
       "    </tr>\n",
       "    <tr>\n",
       "      <th>3662</th>\n",
       "      <td>4222</td>\n",
       "      <td>38369.966120</td>\n",
       "    </tr>\n",
       "    <tr>\n",
       "      <th>3663</th>\n",
       "      <td>4223</td>\n",
       "      <td>38379.084428</td>\n",
       "    </tr>\n",
       "    <tr>\n",
       "      <th>3664</th>\n",
       "      <td>4224</td>\n",
       "      <td>38388.202736</td>\n",
       "    </tr>\n",
       "  </tbody>\n",
       "</table>\n",
       "</div>"
      ],
      "text/plain": [
       "      total_games_played  cumulative_points\n",
       "3655                4215       38306.137964\n",
       "3656                4216       38315.256272\n",
       "3657                4217       38324.374580\n",
       "3658                4218       38333.492888\n",
       "3659                4219       38342.611196\n",
       "3660                4220       38351.729504\n",
       "3661                4221       38360.847812\n",
       "3662                4222       38369.966120\n",
       "3663                4223       38379.084428\n",
       "3664                4224       38388.202736"
      ]
     },
     "execution_count": 21,
     "metadata": {},
     "output_type": "execute_result"
    }
   ],
   "source": [
    "# get games to threshold\n",
    "df_extrapolate = games_to_threshold(\n",
    "    df=df, \n",
    "    str_predictor=str_predictor, \n",
    "    int_pts_goal=int_pts_goal, \n",
    "    dict_col_betas=dict_col_betas, \n",
    "    flt_median_residual=flt_median_residual, \n",
    "    str_target=str_target, \n",
    "    str_dirname_output=str_dirname_output,\n",
    ")\n",
    "# show\n",
    "df_extrapolate.tail(10)"
   ]
  }
 ],
 "metadata": {
  "kernelspec": {
   "display_name": "Python 3 (ipykernel)",
   "language": "python",
   "name": "python3"
  },
  "language_info": {
   "codemirror_mode": {
    "name": "ipython",
    "version": 3
   },
   "file_extension": ".py",
   "mimetype": "text/x-python",
   "name": "python",
   "nbconvert_exporter": "python",
   "pygments_lexer": "ipython3",
   "version": "3.9.12"
  }
 },
 "nbformat": 4,
 "nbformat_minor": 5
}
